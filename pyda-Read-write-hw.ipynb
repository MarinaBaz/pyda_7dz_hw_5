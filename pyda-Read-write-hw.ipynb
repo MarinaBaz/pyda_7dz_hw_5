{
 "cells": [
  {
   "cell_type": "markdown",
   "metadata": {},
   "source": [
    "# Чтение файлов. Запись в файл. Д/З к лекции 5\n",
    "2 файла:\n",
    "- visit_log.csv (user_id, source) - статистика визитов: ИД_пользователя, источник\n",
    "- purchase_log.txt (user_id, category) - статистика покупок: ИД_пользователя, категория покупки\n",
    "\n",
    "условия на данные:\n",
    "- содержимое purchase_log.txt помещается в оперативную память компьютера\n",
    "- содержимое visit_log.csv - нет; используйте только построчную обработку этого файла"
   ]
  },
  {
   "cell_type": "markdown",
   "metadata": {},
   "source": [
    "# Домашнее задание\n",
    "1. Переведите содержимое файла purchase_log.txt в словарь purchases вида:\n",
    "```python\n",
    "{'1840e0b9d4': 'Продукты', ...}\n",
    "```\n",
    "2. Для каждого user_id в файле visit_log.csv добавьте третий столбец с категорией покупки (если покупка была).\n",
    "3. Запишите в файл funnel.csv визиты из файла visit_log.csv, в которых были покупки с указанием категории."
   ]
  },
  {
   "cell_type": "code",
   "execution_count": 70,
   "metadata": {},
   "outputs": [
    {
     "name": "stdout",
     "output_type": "stream",
     "text": [
      "кол-во покупателей: 99999\n",
      "кол-во посетителей: 199999\n",
      "кол-во посетителей, купивших товар: 13798\n",
      "Wall time: 3.26 s\n"
     ]
    }
   ],
   "source": [
    "%%time\n",
    "\n",
    "#1. Переведите содержимое файла purchase_log.txt в словарь purchases вида:\n",
    "# {'1840e0b9d4': 'Продукты', ...}\n",
    "\n",
    "import json\n",
    "\n",
    "purchases = dict()\n",
    "\n",
    "i = 0\n",
    "with open('purchase_log.txt', 'r', encoding='utf-8') as f:\n",
    "    next(f)\n",
    "    \n",
    "    for line in f:\n",
    "        line = line.strip()\n",
    "        \n",
    "        dict_line = json.loads(line)\n",
    "        \n",
    "        purchases[dict_line['user_id']] = dict_line['category']\n",
    "        \n",
    "        i += 1\n",
    "#        if i > 5:\n",
    "#            break\n",
    "\n",
    "print(f'кол-во покупателей: {i}')\n",
    "#print(f'1 задание: {purchases}') \n",
    "\n",
    "\n",
    "#2. Для каждого user_id в файле visit_log.csv добавьте третий столбец с категорией покупки (если покупка была).\n",
    "#3. Запишите в файл funnel.csv визиты из файла visit_log.csv, в которых были покупки с указанием категории.\n",
    "\n",
    "visit_purchases = list()\n",
    "\n",
    "j = 0\n",
    "k = 0\n",
    "with open('visit_log.csv', 'r') as f:\n",
    "    with open('funnel.csv', 'w') as f_new:\n",
    "        next(f)\n",
    "        f_new.write('user_id,source,category\\n')\n",
    "    \n",
    "        for line in f:\n",
    "            list_line = line.strip().split(',')\n",
    "\n",
    "            if purchases.get(list_line[0]) != None:\n",
    "                #print(f'знач {purchases.get(list_line[0])}')\n",
    "                list_line.append(purchases.get(list_line[0]))\n",
    "                #print(list_line)           \n",
    "                visit_purchases.append(list_line)\n",
    "                \n",
    "                str_line = ','.join(list_line) + '\\n'\n",
    "                #print(str_line)\n",
    "                f_new.write(str_line)\n",
    "                \n",
    "                k += 1\n",
    "\n",
    "            j += 1\n",
    "#            if j > 80:\n",
    "#                break\n",
    "\n",
    "print(f'кол-во посетителей: {j}')\n",
    "print(f'кол-во посетителей, купивших товар: {k}')\n",
    "#print(f'2,3 задание: {visit_purchases}')\n"
   ]
  },
  {
   "cell_type": "code",
   "execution_count": null,
   "metadata": {},
   "outputs": [],
   "source": []
  }
 ],
 "metadata": {
  "kernelspec": {
   "display_name": "Python 3",
   "language": "python",
   "name": "python3"
  },
  "language_info": {
   "codemirror_mode": {
    "name": "ipython",
    "version": 3
   },
   "file_extension": ".py",
   "mimetype": "text/x-python",
   "name": "python",
   "nbconvert_exporter": "python",
   "pygments_lexer": "ipython3",
   "version": "3.7.4"
  }
 },
 "nbformat": 4,
 "nbformat_minor": 2
}
